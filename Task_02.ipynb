{
 "cells": [
  {
   "cell_type": "code",
   "execution_count": 14,
   "id": "07249d6b-2dc9-449d-8d93-c5f39f71de44",
   "metadata": {},
   "outputs": [
    {
     "data": {
      "text/plain": [
       "('C:\\\\Users\\\\Acer\\\\Downloads\\\\encrypted_image.png',\n",
       " 'C:\\\\Users\\\\Acer\\\\Downloads\\\\decrypted_image.png')"
      ]
     },
     "execution_count": 14,
     "metadata": {},
     "output_type": "execute_result"
    }
   ],
   "source": [
    "from PIL import Image\n",
    "import numpy as np\n",
    "\n",
    "# Helper function to open an image and convert to numpy array\n",
    "def load_image(image_path):\n",
    "    img = Image.open(image_path)\n",
    "    return np.array(img)\n",
    "\n",
    "# Helper function to save numpy array as image\n",
    "def save_image(image_array, output_path):\n",
    "    img = Image.fromarray(image_array.astype('uint8'))\n",
    "    img.save(output_path)\n",
    "\n",
    "# Simple encryption: add a constant value to each pixel\n",
    "def encrypt_image(image_array, key=50):\n",
    "    encrypted_image = image_array + key  # Add the key\n",
    "    # Clip values to be in range [0, 255]\n",
    "    encrypted_image = np.clip(encrypted_image, 0, 255)  \n",
    "    return encrypted_image.astype(np.uint8)  # Ensure the output is of type uint8\n",
    "\n",
    "# Simple decryption: subtract the constant value\n",
    "def decrypt_image(encrypted_image_array, key=50):\n",
    "    decrypted_image = encrypted_image_array - key  # Subtract the key\n",
    "    # Clip values to be in range [0, 255]\n",
    "    decrypted_image = np.clip(decrypted_image, 0, 255)  \n",
    "    return decrypted_image.astype(np.uint8)  # Ensure the output is of type uint8\n",
    "\n",
    "# Update this path to the actual image on your system\n",
    "image_path = r\"C:\\Users\\Acer\\Downloads\\adorable-portrait-pet-surrounded-by-flowers.jpg\"  # Raw string\n",
    "output_encrypted_path = r\"C:\\Users\\Acer\\Downloads\\encrypted_image.png\"  # Raw string\n",
    "output_decrypted_path = r\"C:\\Users\\Acer\\Downloads\\decrypted_image.png\"  # Raw string\n",
    "\n",
    "# Load the original image\n",
    "image_array = load_image(image_path)\n",
    "\n",
    "# Encrypt the image\n",
    "encrypted_image_array = encrypt_image(image_array, key=50)\n",
    "save_image(encrypted_image_array, output_encrypted_path)\n",
    "\n",
    "# Decrypt the image\n",
    "decrypted_image_array = decrypt_image(encrypted_image_array, key=50)\n",
    "save_image(decrypted_image_array, output_decrypted_path)\n",
    "\n",
    "(output_encrypted_path, output_decrypted_path)  # Return paths to encrypted and decrypted images\n"
   ]
  },
  {
   "cell_type": "code",
   "execution_count": null,
   "id": "35de5457-6280-416e-87f2-71e4dcf6e743",
   "metadata": {},
   "outputs": [],
   "source": []
  }
 ],
 "metadata": {
  "kernelspec": {
   "display_name": "Python 3 (ipykernel)",
   "language": "python",
   "name": "python3"
  },
  "language_info": {
   "codemirror_mode": {
    "name": "ipython",
    "version": 3
   },
   "file_extension": ".py",
   "mimetype": "text/x-python",
   "name": "python",
   "nbconvert_exporter": "python",
   "pygments_lexer": "ipython3",
   "version": "3.11.9"
  }
 },
 "nbformat": 4,
 "nbformat_minor": 5
}
